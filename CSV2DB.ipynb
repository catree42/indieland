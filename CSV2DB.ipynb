{
 "cells": [
  {
   "cell_type": "markdown",
   "metadata": {},
   "source": [
    "# csv 파일 데이터를 DB로 넣는 코드"
   ]
  },
  {
   "cell_type": "code",
   "execution_count": 4,
   "metadata": {},
   "outputs": [],
   "source": [
    "import scipy.io\n",
    "import csv\n",
    "import pymysql\n",
    "from dotenv import load_dotenv\n",
    "import os\n",
    "from datetime import datetime\n",
    "import pandas as pd\n",
    "import re"
   ]
  },
  {
   "cell_type": "markdown",
   "metadata": {},
   "source": [
    "## 1. Game 데이터 Insert"
   ]
  },
  {
   "cell_type": "code",
   "execution_count": 5,
   "metadata": {},
   "outputs": [],
   "source": [
    "# 로컬 DB 커넥팅\n",
    "\n",
    "load_dotenv()\n",
    "def get_db(): \n",
    "    conn=pymysql.connect(\n",
    "        host=os.getenv(\"HOST\"),\n",
    "        port=int(os.getenv(\"PORT\")),\n",
    "        user=os.getenv(\"USER\"),\n",
    "        password=os.getenv(\"PASSWORD\"),\n",
    "        db=os.getenv(\"DB\"),\n",
    "        charset='utf8',\n",
    "        )\n",
    "    return conn\n"
   ]
  },
  {
   "cell_type": "code",
   "execution_count": 3,
   "metadata": {},
   "outputs": [],
   "source": [
    "# csv 파일 열기\n",
    "f=open(r'csv_list/total_games.csv')\n",
    "csvReader=csv.reader(f)\n",
    "curs = conn.cursor()\n",
    "\n",
    "for row in csvReader :\n",
    "    name = (row[0])\n",
    "    date = (row[1])\n",
    "    \n",
    "    if name=='name' or date=='date' :\n",
    "        continue\n",
    "\n",
    "    # dateFormat = '%Y-%m-%d'\n",
    "    # date = datetime.strptime(date,dateFormat)\n",
    "    \n",
    "    sql=\"insert into home_game (name,release_date) values (%s,%s)\"\n",
    "    curs.execute(sql,(name,date))\n",
    "\n"
   ]
  },
  {
   "cell_type": "code",
   "execution_count": 4,
   "metadata": {},
   "outputs": [],
   "source": [
    "# DB 커밋\n",
    "conn.commit()\n",
    "f.close()\n",
    "conn.close()"
   ]
  },
  {
   "cell_type": "markdown",
   "metadata": {},
   "source": [
    "## Function csv2db (DB data insertion 자동화)"
   ]
  },
  {
   "cell_type": "code",
   "execution_count": 29,
   "metadata": {},
   "outputs": [],
   "source": [
    "def csv2db(csv_path_list): \n",
    "    \n",
    "    for csv_path in csv_path_list :\n",
    "        conn = get_db()\n",
    "        curs=conn.cursor() \n",
    "     \n",
    "        csv_path = 'csv_list/' + csv_path \n",
    "        _, table, _= re.split('[/.]',csv_path)\n",
    "    \n",
    "        df = pd.read_csv(csv_path)\n",
    "\n",
    "        try :\n",
    "            df.drop('id', axis=1, inplace=True)\n",
    "        except :\n",
    "            pass\n",
    "        try :\n",
    "            df['game_id']=df['game_id'].apply(lambda x:x+1)\n",
    "        except :\n",
    "            pass\n",
    "        try :\n",
    "            df['tag_id']=df['tag_id'].apply(lambda x:x+1)\n",
    "        except :\n",
    "            pass\n",
    "        try :\n",
    "            df['publisher_id']=df['publisher_id'].apply(lambda x:x+1)\n",
    "        except :\n",
    "            pass\n",
    "        try :\n",
    "            df['publisher_game_id']=df['publisher_game_id'].apply(lambda x:x+1)\n",
    "        except :\n",
    "            pass\n",
    "        try :\n",
    "            df['stream_id']=df['stream_id'].apply(lambda x:x+1)\n",
    "        except :\n",
    "            pass\n",
    "        \n",
    "        sql_col = ''\n",
    "        sql_values = ''\n",
    "        for key in df.keys():\n",
    "            sql_col += f'{key},'\n",
    "            sql_values += '%s,'\n",
    "        sql_col, sql_values = sql_col.rstrip(','), sql_values.rstrip(',')\n",
    "        sql = f\"insert into {table} ({sql_col}) values ({sql_values})\"\n",
    "        \n",
    "        values_list = []\n",
    "        for v in df.values :\n",
    "            values_list.append(tuple(v))\n",
    "\n",
    "        \n",
    "        curs.execute('set FOREIGN_KEY_CHECKS = 0')\n",
    "        curs.execute(f'truncate table {table}')\n",
    "        print(table)\n",
    "        \n",
    "        curs.executemany(sql, values_list)\n",
    "        conn.commit()\n",
    "        curs.close()\n",
    "        conn.close()\n",
    "\n",
    "\n",
    "# def csv2db(*csv_paths):\n",
    "#     curs=conn.cursor()\n",
    "#     conn.commit()   \n",
    "#     for csv_path in csv_paths :\n",
    "#         table = csv_path.lstrip('csv_list/').rstrip('.csv')\n",
    "#         with open(csv_path,'r') as f:\n",
    "#             csvReader=csv.reader(f)\n",
    "#             isColumns = True\n",
    "#             columns_num = 0\n",
    "#             sql_cols = ''\n",
    "#             sql_values = ''\n",
    "#             for row in csvReader :\n",
    "#                 if isColumns : \n",
    "#                     columns_num = len(row)\n",
    "#                     for idx in range(columns_num):\n",
    "#                         sql_cols += f'{(row[idx])},'\n",
    "#                         sql_values += '%s,'\n",
    "\n",
    "#                     isColumns = False\n",
    "#                 else : \n",
    "#                     value_list = ()\n",
    "#                     for idx in range(columns_num):\n",
    "#                         value_list += ((row[idx]),)\n",
    "\n",
    "#                     sql_cols, sql_values = sql_cols.rstrip(','), sql_values.rstrip(',')\n",
    "#                     sql = f\"insert into {table} ({sql_cols}) values ({sql_values})\"\n",
    "#                     curs.execute(sql,value_list)\n",
    "#             conn.commit()\n",
    "#             conn.close()\n",
    "\n",
    "        "
   ]
  },
  {
   "cell_type": "code",
   "execution_count": 30,
   "metadata": {},
   "outputs": [
    {
     "name": "stdout",
     "output_type": "stream",
     "text": [
      "home_game\n",
      "home_gamecomment\n",
      "home_game_tags\n",
      "home_publisher\n",
      "home_publishergame\n",
      "home_streamgame\n",
      "home_streamsite\n",
      "home_tag\n"
     ]
    }
   ],
   "source": [
    "csv_path_list = os.listdir('csv_list')\n",
    "\n",
    "csv2db(csv_path_list)"
   ]
  },
  {
   "cell_type": "code",
   "execution_count": 26,
   "metadata": {},
   "outputs": [],
   "source": [
    "df = pd.read_csv('csv_list/home_gamecomment.csv')\n",
    "\n",
    "df.dropna(inplace=True)\n",
    "\n",
    "df.to_csv('csv_list/home_gamecomment.csv', index=False)"
   ]
  },
  {
   "cell_type": "code",
   "execution_count": 26,
   "metadata": {},
   "outputs": [
    {
     "data": {
      "text/plain": [
       "['csv_list/home_game.csv',\n",
       " 'csv_list/home_gamecomment.csv',\n",
       " 'csv_list/home_game_tags.csv',\n",
       " 'csv_list/home_publisher.csv',\n",
       " 'csv_list/home_publishergame.csv',\n",
       " 'csv_list/home_streamgame.csv',\n",
       " 'csv_list/home_streamsite.csv',\n",
       " 'csv_list/home_tag.csv']"
      ]
     },
     "execution_count": 26,
     "metadata": {},
     "output_type": "execute_result"
    }
   ],
   "source": [
    "path_list = []\n",
    "for csv in os.listdir('csv_list'):\n",
    "    path_list.append('csv_list/'+csv)\n",
    "\n",
    "for path_list in "
   ]
  },
  {
   "cell_type": "code",
   "execution_count": null,
   "metadata": {},
   "outputs": [],
   "source": []
  }
 ],
 "metadata": {
  "kernelspec": {
   "display_name": "indie",
   "language": "python",
   "name": "python3"
  },
  "language_info": {
   "codemirror_mode": {
    "name": "ipython",
    "version": 3
   },
   "file_extension": ".py",
   "mimetype": "text/x-python",
   "name": "python",
   "nbconvert_exporter": "python",
   "pygments_lexer": "ipython3",
   "version": "3.11.9"
  }
 },
 "nbformat": 4,
 "nbformat_minor": 2
}
